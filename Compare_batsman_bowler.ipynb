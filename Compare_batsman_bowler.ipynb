{
 "cells": [
  {
   "cell_type": "code",
   "execution_count": 1,
   "metadata": {},
   "outputs": [],
   "source": [
    "import numpy as np\n",
    "import pandas as pd\n",
    "import matplotlib.pyplot as plt\n",
    "import seaborn as sns\n",
    "%matplotlib inline"
   ]
  },
  {
   "cell_type": "code",
   "execution_count": 2,
   "metadata": {},
   "outputs": [],
   "source": [
    "pd.set_option('display.max_columns',100)"
   ]
  },
  {
   "cell_type": "code",
   "execution_count": 3,
   "metadata": {},
   "outputs": [],
   "source": [
    "data=pd.read_csv('deliveries.csv')\n",
    "ipl=pd.read_csv('matches.csv')\n",
    "merged=ipl.merge(data,left_on='id',right_on='match_id')"
   ]
  },
  {
   "cell_type": "code",
   "execution_count": 4,
   "metadata": {},
   "outputs": [
    {
     "data": {
      "text/plain": [
       "Index(['id', 'season', 'city', 'date', 'team1', 'team2', 'toss_winner',\n",
       "       'toss_decision', 'result', 'dl_applied', 'winner', 'win_by_runs',\n",
       "       'win_by_wickets', 'player_of_match', 'venue', 'umpire1', 'umpire2',\n",
       "       'umpire3', 'match_id', 'inning', 'batting_team', 'bowling_team', 'over',\n",
       "       'ball', 'batsman', 'non_striker', 'bowler', 'is_super_over',\n",
       "       'wide_runs', 'bye_runs', 'legbye_runs', 'noball_runs', 'penalty_runs',\n",
       "       'batsman_runs', 'extra_runs', 'total_runs', 'player_dismissed',\n",
       "       'dismissal_kind', 'fielder'],\n",
       "      dtype='object')"
      ]
     },
     "execution_count": 4,
     "metadata": {},
     "output_type": "execute_result"
    }
   ],
   "source": [
    "merged.columns"
   ]
  },
  {
   "cell_type": "markdown",
   "metadata": {},
   "source": [
    "In the below cells, before main function heading. I am finding z scores of players"
   ]
  },
  {
   "cell_type": "markdown",
   "metadata": {},
   "source": [
    "# Batsman (20 overs)"
   ]
  },
  {
   "cell_type": "code",
   "execution_count": 5,
   "metadata": {},
   "outputs": [],
   "source": [
    "total_runs=merged.groupby('batsman')['batsman_runs'].sum().reset_index()\n",
    "balls_played=merged.groupby('batsman')['batsman_runs'].count().reset_index()\n",
    "runs_balls_played_whole=total_runs.merge(balls_played,on='batsman')\n",
    "runs_balls_played_whole.rename(columns={'batsman_runs_y':'balls_played','batsman_runs_x':'runs'},inplace=True)\n",
    "\n",
    "runs_balls_played_whole['strike']=(runs_balls_played_whole['runs']/runs_balls_played_whole['balls_played'])*100\n",
    "\n",
    "runs_balls_played_whole=runs_balls_played_whole[runs_balls_played_whole['balls_played']>=200]"
   ]
  },
  {
   "cell_type": "code",
   "execution_count": 6,
   "metadata": {},
   "outputs": [],
   "source": [
    "mean_bat_whole=runs_balls_played_whole['strike'].mean()\n",
    "std_bat_whole=runs_balls_played_whole['strike'].std()\n",
    "runs_balls_played_whole['z']=(runs_balls_played_whole['strike']-mean_bat_whole)/std_bat_whole"
   ]
  },
  {
   "cell_type": "code",
   "execution_count": 7,
   "metadata": {},
   "outputs": [
    {
     "data": {
      "text/html": [
       "<div>\n",
       "<style scoped>\n",
       "    .dataframe tbody tr th:only-of-type {\n",
       "        vertical-align: middle;\n",
       "    }\n",
       "\n",
       "    .dataframe tbody tr th {\n",
       "        vertical-align: top;\n",
       "    }\n",
       "\n",
       "    .dataframe thead th {\n",
       "        text-align: right;\n",
       "    }\n",
       "</style>\n",
       "<table border=\"1\" class=\"dataframe\">\n",
       "  <thead>\n",
       "    <tr style=\"text-align: right;\">\n",
       "      <th></th>\n",
       "      <th>batsman</th>\n",
       "      <th>runs</th>\n",
       "      <th>balls_played</th>\n",
       "      <th>strike</th>\n",
       "      <th>z</th>\n",
       "    </tr>\n",
       "  </thead>\n",
       "  <tbody>\n",
       "    <tr>\n",
       "      <th>30</th>\n",
       "      <td>AD Russell</td>\n",
       "      <td>574</td>\n",
       "      <td>350</td>\n",
       "      <td>164.000000</td>\n",
       "      <td>3.030419</td>\n",
       "    </tr>\n",
       "    <tr>\n",
       "      <th>86</th>\n",
       "      <td>CH Morris</td>\n",
       "      <td>439</td>\n",
       "      <td>275</td>\n",
       "      <td>159.636364</td>\n",
       "      <td>2.716882</td>\n",
       "    </tr>\n",
       "    <tr>\n",
       "      <th>143</th>\n",
       "      <td>GJ Maxwell</td>\n",
       "      <td>1229</td>\n",
       "      <td>780</td>\n",
       "      <td>157.564103</td>\n",
       "      <td>2.567985</td>\n",
       "    </tr>\n",
       "    <tr>\n",
       "      <th>196</th>\n",
       "      <td>KH Pandya</td>\n",
       "      <td>480</td>\n",
       "      <td>313</td>\n",
       "      <td>153.354633</td>\n",
       "      <td>2.265525</td>\n",
       "    </tr>\n",
       "    <tr>\n",
       "      <th>433</th>\n",
       "      <td>V Sehwag</td>\n",
       "      <td>2728</td>\n",
       "      <td>1833</td>\n",
       "      <td>148.827059</td>\n",
       "      <td>1.940208</td>\n",
       "    </tr>\n",
       "  </tbody>\n",
       "</table>\n",
       "</div>"
      ],
      "text/plain": [
       "        batsman  runs  balls_played      strike         z\n",
       "30   AD Russell   574           350  164.000000  3.030419\n",
       "86    CH Morris   439           275  159.636364  2.716882\n",
       "143  GJ Maxwell  1229           780  157.564103  2.567985\n",
       "196   KH Pandya   480           313  153.354633  2.265525\n",
       "433    V Sehwag  2728          1833  148.827059  1.940208"
      ]
     },
     "execution_count": 7,
     "metadata": {},
     "output_type": "execute_result"
    }
   ],
   "source": [
    "runs_balls_played_whole.sort_values('strike',ascending=False).head()"
   ]
  },
  {
   "cell_type": "markdown",
   "metadata": {},
   "source": [
    "# Bowlers (20 overs)"
   ]
  },
  {
   "cell_type": "code",
   "execution_count": 8,
   "metadata": {},
   "outputs": [],
   "source": [
    "bowlers=merged.copy()\n",
    "dismissal=['caught','bowled','lbw','stumped','caught and bowled','hit wicket']\n",
    "total_wickets=bowlers[bowlers['dismissal_kind'].isin(dismissal)]"
   ]
  },
  {
   "cell_type": "code",
   "execution_count": 9,
   "metadata": {},
   "outputs": [],
   "source": [
    "total_wickets=total_wickets.groupby('bowler')['player_dismissed'].count().sort_values(ascending=False).reset_index()\n",
    "total_wickets.rename(columns={'player_dismissed':'wickets'},inplace=True)"
   ]
  },
  {
   "cell_type": "code",
   "execution_count": 10,
   "metadata": {},
   "outputs": [],
   "source": [
    "runs_given=bowlers.groupby('bowler')['total_runs'].sum().reset_index()\n",
    "runs_given.rename(columns={'total_runs':'runs'},inplace=True)"
   ]
  },
  {
   "cell_type": "code",
   "execution_count": 11,
   "metadata": {},
   "outputs": [],
   "source": [
    "balls_bowled=bowlers.groupby('bowler')['total_runs'].count().reset_index()\n",
    "balls_bowled.rename(columns={'total_runs':'balls_bowled'},inplace=True)"
   ]
  },
  {
   "cell_type": "code",
   "execution_count": 12,
   "metadata": {},
   "outputs": [],
   "source": [
    "bowler_statistics_whole=total_wickets.merge(runs_given,on='bowler')\n",
    "bowler_statistics_whole=bowler_statistics_whole.merge(balls_bowled,on='bowler')"
   ]
  },
  {
   "cell_type": "code",
   "execution_count": 13,
   "metadata": {},
   "outputs": [],
   "source": [
    "bowler_statistics_whole['econ']=100-(bowler_statistics_whole['runs']/(bowler_statistics_whole['balls_bowled']/6))"
   ]
  },
  {
   "cell_type": "code",
   "execution_count": 14,
   "metadata": {},
   "outputs": [],
   "source": [
    "bowler_statistics_whole=bowler_statistics_whole[bowler_statistics_whole['balls_bowled']>=200]"
   ]
  },
  {
   "cell_type": "code",
   "execution_count": 15,
   "metadata": {},
   "outputs": [],
   "source": [
    "mean_bowl_whole=bowler_statistics_whole['econ'].mean()\n",
    "std_bowl_whole=bowler_statistics_whole['econ'].std()"
   ]
  },
  {
   "cell_type": "code",
   "execution_count": 16,
   "metadata": {},
   "outputs": [],
   "source": [
    "bowler_statistics_whole['z']=(bowler_statistics_whole['econ']-mean_bowl_whole)/std_bowl_whole"
   ]
  },
  {
   "cell_type": "code",
   "execution_count": 17,
   "metadata": {},
   "outputs": [
    {
     "data": {
      "text/html": [
       "<div>\n",
       "<style scoped>\n",
       "    .dataframe tbody tr th:only-of-type {\n",
       "        vertical-align: middle;\n",
       "    }\n",
       "\n",
       "    .dataframe tbody tr th {\n",
       "        vertical-align: top;\n",
       "    }\n",
       "\n",
       "    .dataframe thead th {\n",
       "        text-align: right;\n",
       "    }\n",
       "</style>\n",
       "<table border=\"1\" class=\"dataframe\">\n",
       "  <thead>\n",
       "    <tr style=\"text-align: right;\">\n",
       "      <th></th>\n",
       "      <th>bowler</th>\n",
       "      <th>wickets</th>\n",
       "      <th>runs</th>\n",
       "      <th>balls_bowled</th>\n",
       "      <th>econ</th>\n",
       "      <th>z</th>\n",
       "    </tr>\n",
       "  </thead>\n",
       "  <tbody>\n",
       "    <tr>\n",
       "      <th>90</th>\n",
       "      <td>Sohail Tanvir</td>\n",
       "      <td>22</td>\n",
       "      <td>275</td>\n",
       "      <td>265</td>\n",
       "      <td>93.773585</td>\n",
       "      <td>2.391285</td>\n",
       "    </tr>\n",
       "    <tr>\n",
       "      <th>143</th>\n",
       "      <td>A Chandila</td>\n",
       "      <td>11</td>\n",
       "      <td>245</td>\n",
       "      <td>234</td>\n",
       "      <td>93.717949</td>\n",
       "      <td>2.309710</td>\n",
       "    </tr>\n",
       "    <tr>\n",
       "      <th>10</th>\n",
       "      <td>SP Narine</td>\n",
       "      <td>95</td>\n",
       "      <td>2085</td>\n",
       "      <td>1956</td>\n",
       "      <td>93.604294</td>\n",
       "      <td>2.143068</td>\n",
       "    </tr>\n",
       "    <tr>\n",
       "      <th>9</th>\n",
       "      <td>R Ashwin</td>\n",
       "      <td>100</td>\n",
       "      <td>2552</td>\n",
       "      <td>2359</td>\n",
       "      <td>93.509114</td>\n",
       "      <td>2.003512</td>\n",
       "    </tr>\n",
       "    <tr>\n",
       "      <th>142</th>\n",
       "      <td>SM Pollock</td>\n",
       "      <td>11</td>\n",
       "      <td>307</td>\n",
       "      <td>280</td>\n",
       "      <td>93.421429</td>\n",
       "      <td>1.874946</td>\n",
       "    </tr>\n",
       "  </tbody>\n",
       "</table>\n",
       "</div>"
      ],
      "text/plain": [
       "            bowler  wickets  runs  balls_bowled       econ         z\n",
       "90   Sohail Tanvir       22   275           265  93.773585  2.391285\n",
       "143     A Chandila       11   245           234  93.717949  2.309710\n",
       "10       SP Narine       95  2085          1956  93.604294  2.143068\n",
       "9         R Ashwin      100  2552          2359  93.509114  2.003512\n",
       "142     SM Pollock       11   307           280  93.421429  1.874946"
      ]
     },
     "execution_count": 17,
     "metadata": {},
     "output_type": "execute_result"
    }
   ],
   "source": [
    "bowler_statistics_whole.sort_values('econ',ascending=False).head()"
   ]
  },
  {
   "cell_type": "markdown",
   "metadata": {},
   "source": [
    "# Top 10 batsman in Dangerous Overs (16 to 20 overs)"
   ]
  },
  {
   "cell_type": "code",
   "execution_count": 18,
   "metadata": {},
   "outputs": [],
   "source": [
    "mask=merged['over']>15\n",
    "danger=merged[mask]"
   ]
  },
  {
   "cell_type": "code",
   "execution_count": 19,
   "metadata": {},
   "outputs": [],
   "source": [
    "total_runs_danger=danger.groupby('batsman')['batsman_runs'].sum().reset_index()\n",
    "total_runs_danger.rename(columns={'batsman_runs':'runs'},inplace=True)\n",
    "total_balls_danger=danger.groupby('batsman')['batsman_runs'].count().reset_index()\n",
    "total_balls_danger.rename(columns={'batsman_runs':'balls'},inplace=True)\n",
    "batsman_statistics_danger=total_runs_danger.merge(total_balls_danger,on='batsman')\n",
    "batsman_statistics_danger=batsman_statistics_danger[batsman_statistics_danger['balls']>=200]\n",
    "batsman_statistics_danger['strike']=(batsman_statistics_danger['runs']/batsman_statistics_danger['balls'])*100"
   ]
  },
  {
   "cell_type": "code",
   "execution_count": 20,
   "metadata": {},
   "outputs": [],
   "source": [
    "mean_bat_danger=batsman_statistics_danger['strike'].mean()\n",
    "std_bat_danger=batsman_statistics_danger['strike'].std()"
   ]
  },
  {
   "cell_type": "code",
   "execution_count": 21,
   "metadata": {},
   "outputs": [],
   "source": [
    "batsman_statistics_danger['z']=(batsman_statistics_danger['strike']-mean_bat_danger)/std_bat_danger"
   ]
  },
  {
   "cell_type": "code",
   "execution_count": 22,
   "metadata": {},
   "outputs": [],
   "source": [
    "batsman_statistics_danger=batsman_statistics_danger.sort_values('z',ascending=False).head(10)"
   ]
  },
  {
   "cell_type": "code",
   "execution_count": 23,
   "metadata": {},
   "outputs": [
    {
     "data": {
      "text/html": [
       "<div>\n",
       "<style scoped>\n",
       "    .dataframe tbody tr th:only-of-type {\n",
       "        vertical-align: middle;\n",
       "    }\n",
       "\n",
       "    .dataframe tbody tr th {\n",
       "        vertical-align: top;\n",
       "    }\n",
       "\n",
       "    .dataframe thead th {\n",
       "        text-align: right;\n",
       "    }\n",
       "</style>\n",
       "<table border=\"1\" class=\"dataframe\">\n",
       "  <thead>\n",
       "    <tr style=\"text-align: right;\">\n",
       "      <th></th>\n",
       "      <th>batsman</th>\n",
       "      <th>runs</th>\n",
       "      <th>balls</th>\n",
       "      <th>strike</th>\n",
       "      <th>z</th>\n",
       "    </tr>\n",
       "  </thead>\n",
       "  <tbody>\n",
       "    <tr>\n",
       "      <th>21</th>\n",
       "      <td>AB de Villiers</td>\n",
       "      <td>1203</td>\n",
       "      <td>570</td>\n",
       "      <td>211.052632</td>\n",
       "      <td>2.641360</td>\n",
       "    </tr>\n",
       "    <tr>\n",
       "      <th>93</th>\n",
       "      <td>DA Warner</td>\n",
       "      <td>432</td>\n",
       "      <td>228</td>\n",
       "      <td>189.473684</td>\n",
       "      <td>1.629732</td>\n",
       "    </tr>\n",
       "    <tr>\n",
       "      <th>92</th>\n",
       "      <td>DA Miller</td>\n",
       "      <td>672</td>\n",
       "      <td>360</td>\n",
       "      <td>186.666667</td>\n",
       "      <td>1.498138</td>\n",
       "    </tr>\n",
       "    <tr>\n",
       "      <th>390</th>\n",
       "      <td>V Kohli</td>\n",
       "      <td>993</td>\n",
       "      <td>546</td>\n",
       "      <td>181.868132</td>\n",
       "      <td>1.273181</td>\n",
       "    </tr>\n",
       "    <tr>\n",
       "      <th>296</th>\n",
       "      <td>RG Sharma</td>\n",
       "      <td>1314</td>\n",
       "      <td>748</td>\n",
       "      <td>175.668449</td>\n",
       "      <td>0.982538</td>\n",
       "    </tr>\n",
       "    <tr>\n",
       "      <th>101</th>\n",
       "      <td>DJ Hussey</td>\n",
       "      <td>410</td>\n",
       "      <td>234</td>\n",
       "      <td>175.213675</td>\n",
       "      <td>0.961218</td>\n",
       "    </tr>\n",
       "    <tr>\n",
       "      <th>310</th>\n",
       "      <td>RV Uthappa</td>\n",
       "      <td>477</td>\n",
       "      <td>275</td>\n",
       "      <td>173.454545</td>\n",
       "      <td>0.878750</td>\n",
       "    </tr>\n",
       "    <tr>\n",
       "      <th>414</th>\n",
       "      <td>Yuvraj Singh</td>\n",
       "      <td>883</td>\n",
       "      <td>516</td>\n",
       "      <td>171.124031</td>\n",
       "      <td>0.769494</td>\n",
       "    </tr>\n",
       "    <tr>\n",
       "      <th>160</th>\n",
       "      <td>JH Kallis</td>\n",
       "      <td>394</td>\n",
       "      <td>231</td>\n",
       "      <td>170.562771</td>\n",
       "      <td>0.743182</td>\n",
       "    </tr>\n",
       "    <tr>\n",
       "      <th>237</th>\n",
       "      <td>MS Dhoni</td>\n",
       "      <td>2076</td>\n",
       "      <td>1224</td>\n",
       "      <td>169.607843</td>\n",
       "      <td>0.698415</td>\n",
       "    </tr>\n",
       "  </tbody>\n",
       "</table>\n",
       "</div>"
      ],
      "text/plain": [
       "            batsman  runs  balls      strike         z\n",
       "21   AB de Villiers  1203    570  211.052632  2.641360\n",
       "93        DA Warner   432    228  189.473684  1.629732\n",
       "92        DA Miller   672    360  186.666667  1.498138\n",
       "390         V Kohli   993    546  181.868132  1.273181\n",
       "296       RG Sharma  1314    748  175.668449  0.982538\n",
       "101       DJ Hussey   410    234  175.213675  0.961218\n",
       "310      RV Uthappa   477    275  173.454545  0.878750\n",
       "414    Yuvraj Singh   883    516  171.124031  0.769494\n",
       "160       JH Kallis   394    231  170.562771  0.743182\n",
       "237        MS Dhoni  2076   1224  169.607843  0.698415"
      ]
     },
     "execution_count": 23,
     "metadata": {},
     "output_type": "execute_result"
    }
   ],
   "source": [
    "batsman_statistics_danger"
   ]
  },
  {
   "cell_type": "markdown",
   "metadata": {},
   "source": [
    "# Top 10 bowlers in dangerous overs (16 to 20 overs)"
   ]
  },
  {
   "cell_type": "code",
   "execution_count": 24,
   "metadata": {},
   "outputs": [],
   "source": [
    "total_runs_given_dang=danger.groupby('bowler')['total_runs'].sum().reset_index()\n",
    "total_runs_given_dang.rename(columns={'total_runs':'runs'},inplace=True)\n",
    "total_balls_dang=danger.groupby('bowler')['total_runs'].count().reset_index()\n",
    "total_balls_dang.rename(columns={'total_runs':'balls'},inplace=True)\n",
    "bowler_stats_danger=total_runs_given_dang.merge(total_balls_dang,on='bowler')\n",
    "bowler_stats_danger=bowler_stats_danger[bowler_stats_danger['balls']>=200]\n",
    "bowler_stats_danger['econ']=100-(bowler_stats_danger['runs']/(bowler_stats_danger['balls']/6))"
   ]
  },
  {
   "cell_type": "code",
   "execution_count": 25,
   "metadata": {},
   "outputs": [],
   "source": [
    "mean_bowl_dang=bowler_stats_danger['econ'].mean()\n",
    "std_bowl_dang=bowler_stats_danger['econ'].std()"
   ]
  },
  {
   "cell_type": "code",
   "execution_count": 26,
   "metadata": {},
   "outputs": [],
   "source": [
    "bowler_stats_danger['z']=(bowler_stats_danger['econ']-mean_bowl_dang)/std_bowl_dang"
   ]
  },
  {
   "cell_type": "code",
   "execution_count": 27,
   "metadata": {},
   "outputs": [],
   "source": [
    "bowler_stats_danger=bowler_stats_danger.sort_values('z',ascending=False).head(10)"
   ]
  },
  {
   "cell_type": "code",
   "execution_count": 28,
   "metadata": {},
   "outputs": [
    {
     "data": {
      "text/html": [
       "<div>\n",
       "<style scoped>\n",
       "    .dataframe tbody tr th:only-of-type {\n",
       "        vertical-align: middle;\n",
       "    }\n",
       "\n",
       "    .dataframe tbody tr th {\n",
       "        vertical-align: top;\n",
       "    }\n",
       "\n",
       "    .dataframe thead th {\n",
       "        text-align: right;\n",
       "    }\n",
       "</style>\n",
       "<table border=\"1\" class=\"dataframe\">\n",
       "  <thead>\n",
       "    <tr style=\"text-align: right;\">\n",
       "      <th></th>\n",
       "      <th>bowler</th>\n",
       "      <th>runs</th>\n",
       "      <th>balls</th>\n",
       "      <th>econ</th>\n",
       "      <th>z</th>\n",
       "    </tr>\n",
       "  </thead>\n",
       "  <tbody>\n",
       "    <tr>\n",
       "      <th>254</th>\n",
       "      <td>SP Narine</td>\n",
       "      <td>790</td>\n",
       "      <td>664</td>\n",
       "      <td>92.861446</td>\n",
       "      <td>2.090835</td>\n",
       "    </tr>\n",
       "    <tr>\n",
       "      <th>76</th>\n",
       "      <td>DE Bollinger</td>\n",
       "      <td>297</td>\n",
       "      <td>242</td>\n",
       "      <td>92.636364</td>\n",
       "      <td>1.846308</td>\n",
       "    </tr>\n",
       "    <tr>\n",
       "      <th>248</th>\n",
       "      <td>SL Malinga</td>\n",
       "      <td>1300</td>\n",
       "      <td>1050</td>\n",
       "      <td>92.571429</td>\n",
       "      <td>1.775762</td>\n",
       "    </tr>\n",
       "    <tr>\n",
       "      <th>161</th>\n",
       "      <td>MA Starc</td>\n",
       "      <td>265</td>\n",
       "      <td>210</td>\n",
       "      <td>92.428571</td>\n",
       "      <td>1.620563</td>\n",
       "    </tr>\n",
       "    <tr>\n",
       "      <th>199</th>\n",
       "      <td>R Ashwin</td>\n",
       "      <td>479</td>\n",
       "      <td>379</td>\n",
       "      <td>92.416887</td>\n",
       "      <td>1.607869</td>\n",
       "    </tr>\n",
       "    <tr>\n",
       "      <th>90</th>\n",
       "      <td>DW Steyn</td>\n",
       "      <td>806</td>\n",
       "      <td>624</td>\n",
       "      <td>92.250000</td>\n",
       "      <td>1.426564</td>\n",
       "    </tr>\n",
       "    <tr>\n",
       "      <th>157</th>\n",
       "      <td>M Muralitharan</td>\n",
       "      <td>380</td>\n",
       "      <td>284</td>\n",
       "      <td>91.971831</td>\n",
       "      <td>1.124363</td>\n",
       "    </tr>\n",
       "    <tr>\n",
       "      <th>101</th>\n",
       "      <td>Harbhajan Singh</td>\n",
       "      <td>348</td>\n",
       "      <td>258</td>\n",
       "      <td>91.906977</td>\n",
       "      <td>1.053906</td>\n",
       "    </tr>\n",
       "    <tr>\n",
       "      <th>293</th>\n",
       "      <td>WD Parnell</td>\n",
       "      <td>289</td>\n",
       "      <td>214</td>\n",
       "      <td>91.897196</td>\n",
       "      <td>1.043280</td>\n",
       "    </tr>\n",
       "    <tr>\n",
       "      <th>62</th>\n",
       "      <td>CH Morris</td>\n",
       "      <td>529</td>\n",
       "      <td>381</td>\n",
       "      <td>91.669291</td>\n",
       "      <td>0.795686</td>\n",
       "    </tr>\n",
       "  </tbody>\n",
       "</table>\n",
       "</div>"
      ],
      "text/plain": [
       "              bowler  runs  balls       econ         z\n",
       "254        SP Narine   790    664  92.861446  2.090835\n",
       "76      DE Bollinger   297    242  92.636364  1.846308\n",
       "248       SL Malinga  1300   1050  92.571429  1.775762\n",
       "161         MA Starc   265    210  92.428571  1.620563\n",
       "199         R Ashwin   479    379  92.416887  1.607869\n",
       "90          DW Steyn   806    624  92.250000  1.426564\n",
       "157   M Muralitharan   380    284  91.971831  1.124363\n",
       "101  Harbhajan Singh   348    258  91.906977  1.053906\n",
       "293       WD Parnell   289    214  91.897196  1.043280\n",
       "62         CH Morris   529    381  91.669291  0.795686"
      ]
     },
     "execution_count": 28,
     "metadata": {},
     "output_type": "execute_result"
    }
   ],
   "source": [
    "bowler_stats_danger"
   ]
  },
  {
   "cell_type": "markdown",
   "metadata": {},
   "source": [
    "# Main function"
   ]
  },
  {
   "cell_type": "markdown",
   "metadata": {},
   "source": [
    "In the previous cells. i have found out batsman and bowlers z scores in all 20 overs and in dangerous overs,\n",
    "now my point of view is such that\n",
    "- Compare the z scores of batsman and bowler in all 20 over table (runs_balls_played_whole, and bowler_statistics_whole), and according either increase result_bat or result_bowl variable by 1 for the player having high z score\n",
    "- Compare the z scores of batsman and bowler in danger overs (16 to 20) using tables (batsman_statistics_danger, and bowler_stats_danger), and according either increase result_bat or result_bowl variable by 1 for the player having high z score\n",
    "- If one of the two players aren't listed in danger overs table, in that case, the player listed in the danger table will have +2 in his result variable. thus making him a better player over the other"
   ]
  },
  {
   "cell_type": "markdown",
   "metadata": {},
   "source": [
    "variables to use are:\n",
    "- runs_balls_played_whole: batsman (20 overs)\n",
    "- bowler_statistics_whole: bowlers (20 overs)\n",
    "- batsman_statistics_danger: batsmen in danger overs\n",
    "- bowler_stats_danger: bowlers in danger overs"
   ]
  },
  {
   "cell_type": "code",
   "execution_count": 29,
   "metadata": {},
   "outputs": [],
   "source": [
    "def batsmen_bowler_present(batsman_name,bowler_name):\n",
    "    \"\"\"Used to check if the given names are valid or not\"\"\"\n",
    "    batsman_present=False\n",
    "    bowler_present=False\n",
    "    # Checking whether the name is correct by matching it with all batsman,bowler unique names\n",
    "    if batsman_name in list(runs_balls_played_whole['batsman'].unique()) and bowler_name in list(bowler_statistics_whole['bowler'].unique()):\n",
    "        return True"
   ]
  },
  {
   "cell_type": "code",
   "execution_count": 30,
   "metadata": {},
   "outputs": [],
   "source": [
    "def dataframe_info_sender(batsman_name,bowler_name):\n",
    "    \"\"\"Sending dataframes of the given batsman and bowler\"\"\"\n",
    "    batsman_whole=runs_balls_played_whole[runs_balls_played_whole['batsman']==batsman_name]\n",
    "    batsman_danger=batsman_statistics_danger[batsman_statistics_danger['batsman']==batsman_name]\n",
    "    bowler_whole=bowler_statistics_whole[bowler_statistics_whole['bowler']==bowler_name]\n",
    "    bowler_danger=bowler_stats_danger[bowler_stats_danger['bowler']==bowler_name]\n",
    "    return (batsman_whole,batsman_danger,bowler_whole,bowler_danger)"
   ]
  },
  {
   "cell_type": "code",
   "execution_count": 31,
   "metadata": {},
   "outputs": [],
   "source": [
    "def compare(batsman_name,bowler_name):\n",
    "    \"\"\"compare(batsman_name,bowler_name) function let's you compare a batsman and a bowler and then prints who is a better\n",
    "    T20 player. The result depends upon the players strike rate/ economy in all 20 overs,\n",
    "    and specially the performance of a player in the dangerous overs.\"\"\"\n",
    "    # Checking if names are valid and can be compared\n",
    "    # condition for comparing is both the given names must have played more than 200 balls.\n",
    "    if batsmen_bowler_present(batsman_name,bowler_name):\n",
    "        \n",
    "        # Getting the info related to the given names\n",
    "        \n",
    "        batsman_whole,batsman_danger,bowler_whole,bowler_danger = dataframe_info_sender(batsman_name,bowler_name)\n",
    "        \n",
    "        # The below variables are used to know whether batsman and bowler are in the top 10 list of danger overs\n",
    "        \n",
    "        bat_dang_length = len(batsman_danger) \n",
    "        bowl_dang_length = len(bowler_danger)\n",
    "        \n",
    "        # result_bat and result_bowl are used to give points to the batsman or bowler if he is found to be a better \n",
    "        # player with the given below conditions.\n",
    "        \n",
    "        result_bat = 0\n",
    "        result_bowl = 0\n",
    "        \n",
    "        # Checking for better player in all 20 overs using z scores\n",
    "        \n",
    "        if batsman_whole['z'].values[0] > bowler_whole['z'].values[0]:\n",
    "            result_bat=result_bat+1\n",
    "            \n",
    "        elif batsman_whole['z'].values[0] < bowler_whole['z'].values[0]:\n",
    "            result_bowl=result_bowl+1\n",
    "            \n",
    "        elif batsman_whole['z'].values[0] == bowler_whole['z'].values[0]:\n",
    "            result_bat=result_bat+1\n",
    "            result_bowl=result_bowl+1\n",
    "            \n",
    "        # Checking for better player in dangerous overs using z score\n",
    "        \n",
    "        # If both bowler and batsman are in top 10 list of danger over players with high strike rate/econ.\n",
    "        \n",
    "        if bat_dang_length > 0 and bowl_dang_length > 0:\n",
    "            if batsman_danger['z'].values[0] > bowler_danger['z'].values[0]:\n",
    "                result_bat+=1\n",
    "                \n",
    "            elif batsman_danger['z'].values[0] < bowler_danger['z'].values[0]:\n",
    "                result_bowl+=1\n",
    "                \n",
    "            elif batsman_danger['z'].values[0] == bowler_danger['z'].values[0]:\n",
    "                result_bat+=1\n",
    "                result_bowl+=1\n",
    "                \n",
    "        # If the given batsman is in the top 10 list of danger overs and bowler isn't        \n",
    "        \n",
    "        elif bat_dang_length == 0 and bowl_dang_length > 0:\n",
    "            result_bowl+=2\n",
    "            \n",
    "        # If the given batsman is not in top 10 list and bowler is    \n",
    "        \n",
    "        elif bat_dang_length > 0 and bowl_dang_length == 0:\n",
    "            result_bat+=2\n",
    "            \n",
    "        # Comparing points given in above condition and printing result    \n",
    "        \n",
    "        if result_bat > result_bowl:\n",
    "            print(batsman_name,'is a better T20 player than',bowler_name)\n",
    "        elif result_bat < result_bowl:\n",
    "            print(bowler_name,'is better T20 player than',batsman_name)\n",
    "        elif result_bat == result_bowl:\n",
    "            print(batsman_name,'and',bowler_name,'are of same level')\n",
    "    else:\n",
    "        \n",
    "        # If batsman/bowler are not valid names or they aren't comparable because of not played more than 200 balls. \n",
    "        \n",
    "        print('Sorry, either your player names are incorrect or they haven\\'t played more than 200 balls in T20',end='')\n",
    "        print('. Thus are not comparable.')"
   ]
  },
  {
   "cell_type": "code",
   "execution_count": 32,
   "metadata": {},
   "outputs": [
    {
     "data": {
      "text/plain": [
       "1"
      ]
     },
     "execution_count": 32,
     "metadata": {},
     "output_type": "execute_result"
    }
   ],
   "source": [
    "len(runs_balls_played_whole[runs_balls_played_whole['batsman']=='V Kohli'])"
   ]
  },
  {
   "cell_type": "code",
   "execution_count": 33,
   "metadata": {},
   "outputs": [
    {
     "name": "stdout",
     "output_type": "stream",
     "text": [
      "V Kohli and Harbhajan Singh are of same level\n"
     ]
    }
   ],
   "source": [
    "compare('V Kohli','Harbhajan Singh')"
   ]
  },
  {
   "cell_type": "code",
   "execution_count": 34,
   "metadata": {},
   "outputs": [
    {
     "name": "stdout",
     "output_type": "stream",
     "text": [
      "V Kohli is a better T20 player than Sohail Tanvir\n"
     ]
    }
   ],
   "source": [
    "compare('V Kohli','Sohail Tanvir') # Because sohail isnt listed in danger table while virat is"
   ]
  },
  {
   "cell_type": "code",
   "execution_count": 35,
   "metadata": {},
   "outputs": [
    {
     "name": "stdout",
     "output_type": "stream",
     "text": [
      "SP Narine is better T20 player than V Kohli\n"
     ]
    }
   ],
   "source": [
    "compare('V Kohli','SP Narine')"
   ]
  },
  {
   "cell_type": "code",
   "execution_count": null,
   "metadata": {},
   "outputs": [],
   "source": []
  }
 ],
 "metadata": {
  "kernelspec": {
   "display_name": "Python 3",
   "language": "python",
   "name": "python3"
  },
  "language_info": {
   "codemirror_mode": {
    "name": "ipython",
    "version": 3
   },
   "file_extension": ".py",
   "mimetype": "text/x-python",
   "name": "python",
   "nbconvert_exporter": "python",
   "pygments_lexer": "ipython3",
   "version": "3.7.3"
  }
 },
 "nbformat": 4,
 "nbformat_minor": 2
}
